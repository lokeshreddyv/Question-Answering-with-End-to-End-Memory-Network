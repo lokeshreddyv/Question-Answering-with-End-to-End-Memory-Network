{
 "cells": [
  {
   "cell_type": "markdown",
   "metadata": {},
   "source": [
    "# Question Answering Bot"
   ]
  },
  {
   "cell_type": "markdown",
   "metadata": {},
   "source": [
    "## Loading the Data\n",
    "\n",
    "We will be working with the Babi Data Set from Facebook Research.\n",
    "\n",
    "Full Details: https://research.fb.com/downloads/babi/\n",
    "\n",
    "- Jason Weston, Antoine Bordes, Sumit Chopra, Tomas Mikolov, Alexander M. Rush,\n",
    "  \"Towards AI-Complete Question Answering: A Set of Prerequisite Toy Tasks\",\n",
    "  http://arxiv.org/abs/1502.05698\n"
   ]
  },
  {
   "cell_type": "code",
   "execution_count": 1,
   "metadata": {},
   "outputs": [],
   "source": [
    "import pickle\n",
    "import numpy as np"
   ]
  },
  {
   "cell_type": "code",
   "execution_count": 2,
   "metadata": {},
   "outputs": [],
   "source": [
    "with open(\"train_qa.txt\", \"rb\") as fp:   # Unpickling, read-binary\n",
    "    train_data =  pickle.load(fp)"
   ]
  },
  {
   "cell_type": "code",
   "execution_count": 3,
   "metadata": {},
   "outputs": [],
   "source": [
    "with open(\"test_qa.txt\", \"rb\") as fp:   # Unpickling\n",
    "    test_data =  pickle.load(fp)"
   ]
  },
  {
   "cell_type": "markdown",
   "metadata": {},
   "source": [
    "----"
   ]
  },
  {
   "cell_type": "markdown",
   "metadata": {},
   "source": [
    "## Exploring the Format of the Data"
   ]
  },
  {
   "cell_type": "code",
   "execution_count": 4,
   "metadata": {},
   "outputs": [
    {
     "data": {
      "text/plain": [
       "list"
      ]
     },
     "execution_count": 4,
     "metadata": {},
     "output_type": "execute_result"
    }
   ],
   "source": [
    "type(test_data)"
   ]
  },
  {
   "cell_type": "code",
   "execution_count": 5,
   "metadata": {},
   "outputs": [
    {
     "data": {
      "text/plain": [
       "list"
      ]
     },
     "execution_count": 5,
     "metadata": {},
     "output_type": "execute_result"
    }
   ],
   "source": [
    "type(train_data)"
   ]
  },
  {
   "cell_type": "code",
   "execution_count": 6,
   "metadata": {},
   "outputs": [
    {
     "data": {
      "text/plain": [
       "1000"
      ]
     },
     "execution_count": 6,
     "metadata": {},
     "output_type": "execute_result"
    }
   ],
   "source": [
    "len(test_data)"
   ]
  },
  {
   "cell_type": "code",
   "execution_count": 7,
   "metadata": {},
   "outputs": [
    {
     "data": {
      "text/plain": [
       "10000"
      ]
     },
     "execution_count": 7,
     "metadata": {},
     "output_type": "execute_result"
    }
   ],
   "source": [
    "len(train_data)"
   ]
  },
  {
   "cell_type": "markdown",
   "metadata": {},
   "source": [
    "- the train data contains 10,000 samples"
   ]
  },
  {
   "cell_type": "code",
   "execution_count": 8,
   "metadata": {},
   "outputs": [
    {
     "data": {
      "text/plain": [
       "(['Mary',\n",
       "  'went',\n",
       "  'back',\n",
       "  'to',\n",
       "  'the',\n",
       "  'bathroom',\n",
       "  '.',\n",
       "  'Daniel',\n",
       "  'went',\n",
       "  'to',\n",
       "  'the',\n",
       "  'office',\n",
       "  '.'],\n",
       " ['Is', 'Mary', 'in', 'the', 'bathroom', '?'],\n",
       " 'yes')"
      ]
     },
     "execution_count": 8,
     "metadata": {},
     "output_type": "execute_result"
    }
   ],
   "source": [
    "train_data[50]"
   ]
  },
  {
   "cell_type": "code",
   "execution_count": 9,
   "metadata": {},
   "outputs": [
    {
     "data": {
      "text/plain": [
       "(['Mary',\n",
       "  'moved',\n",
       "  'to',\n",
       "  'the',\n",
       "  'bathroom',\n",
       "  '.',\n",
       "  'Sandra',\n",
       "  'journeyed',\n",
       "  'to',\n",
       "  'the',\n",
       "  'bedroom',\n",
       "  '.'],\n",
       " ['Is', 'Sandra', 'in', 'the', 'hallway', '?'],\n",
       " 'no')"
      ]
     },
     "execution_count": 9,
     "metadata": {},
     "output_type": "execute_result"
    }
   ],
   "source": [
    "train_data[0]"
   ]
  },
  {
   "cell_type": "code",
   "execution_count": 195,
   "metadata": {},
   "outputs": [
    {
     "name": "stdout",
     "output_type": "stream",
     "text": [
      "Story:\n",
      "Daniel grabbed the apple there.\n",
      "Daniel went to the bedroom.\n",
      "John moved to the garden.\n",
      "Sandra journeyed to the office.\n",
      "Daniel put down the apple.\n",
      "Mary went to the bedroom.\n",
      "Mary grabbed the apple there.\n",
      "Sandra went back to the garden.\n",
      "Mary went to the kitchen.\n",
      "Daniel went to the office.\n",
      "\n",
      "Question: Is Mary in the garden?\n",
      "\n",
      "Answer: no\n"
     ]
    }
   ],
   "source": [
    "text=''\n",
    "print('Story:')\n",
    "for sent in train_data[99]:\n",
    "    if sent!='yes' and sent!='no':\n",
    "        for word in sent:\n",
    "            if (word!='.'):\n",
    "                if (word!='?'):\n",
    "                    text+= word + ' '\n",
    "                else:\n",
    "                    print()\n",
    "                    print('Question:', text[:-1]+word)\n",
    "                    print()\n",
    "            else:\n",
    "                print(text[:-1]+word)\n",
    "                text=''\n",
    "    else:\n",
    "        print('Answer:', sent)"
   ]
  },
  {
   "cell_type": "markdown",
   "metadata": {},
   "source": [
    "- list of tuples\n",
    "    - tuple contains: story x, question q and answer a"
   ]
  },
  {
   "cell_type": "code",
   "execution_count": 10,
   "metadata": {},
   "outputs": [
    {
     "data": {
      "text/plain": [
       "'Mary moved to the bathroom . Sandra journeyed to the bedroom .'"
      ]
     },
     "execution_count": 10,
     "metadata": {},
     "output_type": "execute_result"
    }
   ],
   "source": [
    "' '.join(train_data[0][0])"
   ]
  },
  {
   "cell_type": "code",
   "execution_count": 11,
   "metadata": {},
   "outputs": [
    {
     "data": {
      "text/plain": [
       "'Is Sandra in the hallway ?'"
      ]
     },
     "execution_count": 11,
     "metadata": {},
     "output_type": "execute_result"
    }
   ],
   "source": [
    "' '.join(train_data[0][1])"
   ]
  },
  {
   "cell_type": "code",
   "execution_count": 12,
   "metadata": {},
   "outputs": [
    {
     "data": {
      "text/plain": [
       "'no'"
      ]
     },
     "execution_count": 12,
     "metadata": {},
     "output_type": "execute_result"
    }
   ],
   "source": [
    "train_data[0][2]"
   ]
  },
  {
   "cell_type": "markdown",
   "metadata": {},
   "source": [
    "-----\n",
    "\n",
    "## Setting up Vocabulary of All Words"
   ]
  },
  {
   "cell_type": "code",
   "execution_count": 13,
   "metadata": {},
   "outputs": [],
   "source": [
    "# Create a set that holds the vocab words\n",
    "vocab = set()"
   ]
  },
  {
   "cell_type": "code",
   "execution_count": 14,
   "metadata": {},
   "outputs": [],
   "source": [
    "all_data = test_data + train_data"
   ]
  },
  {
   "cell_type": "code",
   "execution_count": 15,
   "metadata": {},
   "outputs": [
    {
     "data": {
      "text/plain": [
       "11000"
      ]
     },
     "execution_count": 15,
     "metadata": {},
     "output_type": "execute_result"
    }
   ],
   "source": [
    "len(all_data)"
   ]
  },
  {
   "cell_type": "code",
   "execution_count": 16,
   "metadata": {},
   "outputs": [
    {
     "data": {
      "text/plain": [
       "{'.',\n",
       " 'Mary',\n",
       " 'Sandra',\n",
       " 'bathroom',\n",
       " 'bedroom',\n",
       " 'journeyed',\n",
       " 'moved',\n",
       " 'the',\n",
       " 'to'}"
      ]
     },
     "execution_count": 16,
     "metadata": {},
     "output_type": "execute_result"
    }
   ],
   "source": [
    "set(train_data[0][0]) # story component"
   ]
  },
  {
   "cell_type": "code",
   "execution_count": 17,
   "metadata": {},
   "outputs": [],
   "source": [
    "for story, question , answer in all_data:\n",
    "    # In case you don't know what a union of sets is:\n",
    "    # https://www.programiz.com/python-programming/methods/set/union\n",
    "    vocab = vocab.union(set(story))\n",
    "    vocab = vocab.union(set(question))"
   ]
  },
  {
   "cell_type": "markdown",
   "metadata": {},
   "source": [
    "- adding the answer possibilities"
   ]
  },
  {
   "cell_type": "code",
   "execution_count": 18,
   "metadata": {},
   "outputs": [],
   "source": [
    "vocab.add('no')\n",
    "vocab.add('yes')"
   ]
  },
  {
   "cell_type": "code",
   "execution_count": 19,
   "metadata": {},
   "outputs": [
    {
     "data": {
      "text/plain": [
       "{'.',\n",
       " '?',\n",
       " 'Daniel',\n",
       " 'Is',\n",
       " 'John',\n",
       " 'Mary',\n",
       " 'Sandra',\n",
       " 'apple',\n",
       " 'back',\n",
       " 'bathroom',\n",
       " 'bedroom',\n",
       " 'discarded',\n",
       " 'down',\n",
       " 'dropped',\n",
       " 'football',\n",
       " 'garden',\n",
       " 'got',\n",
       " 'grabbed',\n",
       " 'hallway',\n",
       " 'in',\n",
       " 'journeyed',\n",
       " 'kitchen',\n",
       " 'left',\n",
       " 'milk',\n",
       " 'moved',\n",
       " 'no',\n",
       " 'office',\n",
       " 'picked',\n",
       " 'put',\n",
       " 'the',\n",
       " 'there',\n",
       " 'to',\n",
       " 'took',\n",
       " 'travelled',\n",
       " 'up',\n",
       " 'went',\n",
       " 'yes'}"
      ]
     },
     "execution_count": 19,
     "metadata": {},
     "output_type": "execute_result"
    }
   ],
   "source": [
    "vocab"
   ]
  },
  {
   "cell_type": "code",
   "execution_count": 20,
   "metadata": {},
   "outputs": [],
   "source": [
    "vocab_len = len(vocab) + 1 # we add an extra space to hold a 0 for Keras's pad_sequences"
   ]
  },
  {
   "cell_type": "code",
   "execution_count": 21,
   "metadata": {},
   "outputs": [
    {
     "data": {
      "text/plain": [
       "38"
      ]
     },
     "execution_count": 21,
     "metadata": {},
     "output_type": "execute_result"
    }
   ],
   "source": [
    "vocab_len"
   ]
  },
  {
   "cell_type": "code",
   "execution_count": 22,
   "metadata": {},
   "outputs": [],
   "source": [
    "max_story_len = max([len(data[0]) for data in all_data])"
   ]
  },
  {
   "cell_type": "code",
   "execution_count": 23,
   "metadata": {},
   "outputs": [
    {
     "data": {
      "text/plain": [
       "156"
      ]
     },
     "execution_count": 23,
     "metadata": {},
     "output_type": "execute_result"
    }
   ],
   "source": [
    "max_story_len"
   ]
  },
  {
   "cell_type": "code",
   "execution_count": 24,
   "metadata": {},
   "outputs": [],
   "source": [
    "max_question_len = max([len(data[1]) for data in all_data])"
   ]
  },
  {
   "cell_type": "code",
   "execution_count": 25,
   "metadata": {},
   "outputs": [
    {
     "data": {
      "text/plain": [
       "6"
      ]
     },
     "execution_count": 25,
     "metadata": {},
     "output_type": "execute_result"
    }
   ],
   "source": [
    "max_question_len"
   ]
  },
  {
   "cell_type": "markdown",
   "metadata": {},
   "source": [
    "## Vectorizing the Data"
   ]
  },
  {
   "cell_type": "code",
   "execution_count": 26,
   "metadata": {},
   "outputs": [],
   "source": [
    "# Reserve 0 for pad_sequences\n",
    "vocab_size = len(vocab) + 1"
   ]
  },
  {
   "cell_type": "markdown",
   "metadata": {},
   "source": [
    "-----------"
   ]
  },
  {
   "cell_type": "code",
   "execution_count": 27,
   "metadata": {},
   "outputs": [],
   "source": [
    "from tensorflow.keras.preprocessing.sequence import pad_sequences\n",
    "from tensorflow.keras.preprocessing.text import Tokenizer"
   ]
  },
  {
   "cell_type": "code",
   "execution_count": 28,
   "metadata": {},
   "outputs": [],
   "source": [
    "# integer encode sequences of words\n",
    "tokenizer = Tokenizer(filters=[])   # provide empty list for filter out\n",
    "tokenizer.fit_on_texts(vocab)"
   ]
  },
  {
   "cell_type": "code",
   "execution_count": 29,
   "metadata": {},
   "outputs": [
    {
     "data": {
      "text/plain": [
       "{'dropped': 1,\n",
       " 'journeyed': 2,\n",
       " 'no': 3,\n",
       " 'sandra': 4,\n",
       " 'mary': 5,\n",
       " 'got': 6,\n",
       " 'apple': 7,\n",
       " 'office': 8,\n",
       " 'travelled': 9,\n",
       " 'discarded': 10,\n",
       " 'bathroom': 11,\n",
       " 'the': 12,\n",
       " 'took': 13,\n",
       " 'grabbed': 14,\n",
       " 'kitchen': 15,\n",
       " '?': 16,\n",
       " 'down': 17,\n",
       " '.': 18,\n",
       " 'to': 19,\n",
       " 'hallway': 20,\n",
       " 'is': 21,\n",
       " 'went': 22,\n",
       " 'back': 23,\n",
       " 'yes': 24,\n",
       " 'john': 25,\n",
       " 'up': 26,\n",
       " 'football': 27,\n",
       " 'in': 28,\n",
       " 'put': 29,\n",
       " 'milk': 30,\n",
       " 'daniel': 31,\n",
       " 'left': 32,\n",
       " 'picked': 33,\n",
       " 'there': 34,\n",
       " 'garden': 35,\n",
       " 'bedroom': 36,\n",
       " 'moved': 37}"
      ]
     },
     "execution_count": 29,
     "metadata": {},
     "output_type": "execute_result"
    }
   ],
   "source": [
    "tokenizer.word_index"
   ]
  },
  {
   "cell_type": "code",
   "execution_count": 30,
   "metadata": {},
   "outputs": [],
   "source": [
    "train_story_text = []\n",
    "train_question_text = []\n",
    "train_answers = []\n",
    "\n",
    "for story,question,answer in train_data:\n",
    "    train_story_text.append(story)\n",
    "    train_question_text.append(question)"
   ]
  },
  {
   "cell_type": "code",
   "execution_count": 31,
   "metadata": {},
   "outputs": [],
   "source": [
    "train_story_seq = tokenizer.texts_to_sequences(train_story_text)"
   ]
  },
  {
   "cell_type": "code",
   "execution_count": 32,
   "metadata": {},
   "outputs": [
    {
     "data": {
      "text/plain": [
       "10000"
      ]
     },
     "execution_count": 32,
     "metadata": {},
     "output_type": "execute_result"
    }
   ],
   "source": [
    "len(train_story_text)"
   ]
  },
  {
   "cell_type": "code",
   "execution_count": 33,
   "metadata": {},
   "outputs": [
    {
     "data": {
      "text/plain": [
       "10000"
      ]
     },
     "execution_count": 33,
     "metadata": {},
     "output_type": "execute_result"
    }
   ],
   "source": [
    "len(train_story_seq)"
   ]
  },
  {
   "cell_type": "code",
   "execution_count": 34,
   "metadata": {},
   "outputs": [],
   "source": [
    "# word_index = tokenizer.word_index"
   ]
  },
  {
   "cell_type": "markdown",
   "metadata": {},
   "source": [
    "### Functionalize Vectorization"
   ]
  },
  {
   "cell_type": "code",
   "execution_count": 88,
   "metadata": {},
   "outputs": [],
   "source": [
    "def vectorize_stories(data, word_index=tokenizer.word_index, max_story_len=max_story_len,max_question_len=max_question_len):\n",
    "    '''\n",
    "    INPUT: \n",
    "    \n",
    "    data: consisting of Stories,Queries,and Answers\n",
    "    word_index: word index dictionary from tokenizer\n",
    "    max_story_len: the length of the longest story (used for pad_sequences function)\n",
    "    max_question_len: length of the longest question (used for pad_sequences function)\n",
    "\n",
    "\n",
    "    OUTPUT:\n",
    "    \n",
    "    Vectorizes the stories,questions, and answers into padded sequences. We first loop for every story, query , and\n",
    "    answer in the data. Then we convert the raw words to an word index value. Then we append each set to their appropriate\n",
    "    output list. Then once we have converted the words to numbers, we pad the sequences so they are all of equal length.\n",
    "    \n",
    "    Returns this in the form of a tuple (X,Xq,Y) (padded based on max lengths)\n",
    "    '''\n",
    "    \n",
    "    \n",
    "    # X = STORIES\n",
    "    X = []\n",
    "    # Xq = QUERY/QUESTION\n",
    "    Xq = []\n",
    "    # Y = CORRECT ANSWER\n",
    "    Y = []\n",
    "    \n",
    "    \n",
    "    for story, query, answer in data:\n",
    "        \n",
    "        # Grab the word index for every word in story\n",
    "        x = [word_index[word.lower()] for word in story]\n",
    "        # Grab the word index for every word in query\n",
    "        xq = [word_index[word.lower()] for word in query]\n",
    "        \n",
    "        # Grab the Answers (either Yes/No so we don't need to use list comprehension here)\n",
    "        # Index 0 is reserved so we're going to use + 1\n",
    "        y = np.zeros(vocab_size)  # this includes +1 for padding\n",
    "        \n",
    "        # Now that y is all zeros and we know its just Yes/No , we can use numpy logic to create this assignment\n",
    "        y[word_index[answer]] = 1\n",
    "        \n",
    "        # Append each set of story,query, and answer to their respective holding lists\n",
    "        X.append(x)\n",
    "        Xq.append(xq)\n",
    "        Y.append(y)\n",
    "        \n",
    "    # Finally, pad the sequences based on their max length so the RNN can be trained on uniformly long sequences.\n",
    "        \n",
    "    # RETURN TUPLE FOR UNPACKING\n",
    "    return (pad_sequences(X, maxlen=max_story_len),pad_sequences(Xq, maxlen=max_question_len), np.array(Y))"
   ]
  },
  {
   "cell_type": "code",
   "execution_count": 89,
   "metadata": {},
   "outputs": [],
   "source": [
    "inputs_train, queries_train, answers_train = vectorize_stories(train_data)"
   ]
  },
  {
   "cell_type": "code",
   "execution_count": 90,
   "metadata": {},
   "outputs": [],
   "source": [
    "inputs_test, queries_test, answers_test = vectorize_stories(test_data)"
   ]
  },
  {
   "cell_type": "code",
   "execution_count": 91,
   "metadata": {},
   "outputs": [
    {
     "data": {
      "text/plain": [
       "array([[ 0,  0,  0, ..., 12, 36, 18],\n",
       "       [ 0,  0,  0, ..., 12, 35, 18],\n",
       "       [ 0,  0,  0, ..., 12, 35, 18],\n",
       "       ...,\n",
       "       [ 0,  0,  0, ..., 12,  7, 18],\n",
       "       [ 0,  0,  0, ..., 12, 35, 18],\n",
       "       [ 0,  0,  0, ...,  7, 34, 18]])"
      ]
     },
     "execution_count": 91,
     "metadata": {},
     "output_type": "execute_result"
    }
   ],
   "source": [
    "# padding mode 'pre'\n",
    "inputs_test"
   ]
  },
  {
   "cell_type": "code",
   "execution_count": 92,
   "metadata": {},
   "outputs": [
    {
     "data": {
      "text/plain": [
       "array([[21, 25, 28, 12, 15, 16],\n",
       "       [21, 25, 28, 12, 15, 16],\n",
       "       [21, 25, 28, 12, 35, 16],\n",
       "       ...,\n",
       "       [21,  5, 28, 12, 36, 16],\n",
       "       [21,  4, 28, 12, 35, 16],\n",
       "       [21,  5, 28, 12, 35, 16]])"
      ]
     },
     "execution_count": 92,
     "metadata": {},
     "output_type": "execute_result"
    }
   ],
   "source": [
    "queries_test"
   ]
  },
  {
   "cell_type": "code",
   "execution_count": 93,
   "metadata": {},
   "outputs": [
    {
     "data": {
      "text/plain": [
       "array([[0., 0., 0., ..., 0., 0., 0.],\n",
       "       [0., 0., 0., ..., 0., 0., 0.],\n",
       "       [0., 0., 0., ..., 0., 0., 0.],\n",
       "       ...,\n",
       "       [0., 0., 0., ..., 0., 0., 0.],\n",
       "       [0., 0., 0., ..., 0., 0., 0.],\n",
       "       [0., 0., 0., ..., 0., 0., 0.]])"
      ]
     },
     "execution_count": 93,
     "metadata": {},
     "output_type": "execute_result"
    }
   ],
   "source": [
    "# one-hot vectors of size V vocabulary for Yes / No\n",
    "answers_test"
   ]
  },
  {
   "cell_type": "code",
   "execution_count": 94,
   "metadata": {},
   "outputs": [
    {
     "data": {
      "text/plain": [
       "array([  0.,   0.,   0., 503.,   0.,   0.,   0.,   0.,   0.,   0.,   0.,\n",
       "         0.,   0.,   0.,   0.,   0.,   0.,   0.,   0.,   0.,   0.,   0.,\n",
       "         0.,   0., 497.,   0.,   0.,   0.,   0.,   0.,   0.,   0.,   0.,\n",
       "         0.,   0.,   0.,   0.,   0.])"
      ]
     },
     "execution_count": 94,
     "metadata": {},
     "output_type": "execute_result"
    }
   ],
   "source": [
    "# Equal proportion of Yes / No answers\n",
    "sum(answers_test)"
   ]
  },
  {
   "cell_type": "code",
   "execution_count": 95,
   "metadata": {},
   "outputs": [
    {
     "data": {
      "text/plain": [
       "24"
      ]
     },
     "execution_count": 95,
     "metadata": {},
     "output_type": "execute_result"
    }
   ],
   "source": [
    "tokenizer.word_index['yes']"
   ]
  },
  {
   "cell_type": "code",
   "execution_count": 96,
   "metadata": {},
   "outputs": [
    {
     "data": {
      "text/plain": [
       "3"
      ]
     },
     "execution_count": 96,
     "metadata": {},
     "output_type": "execute_result"
    }
   ],
   "source": [
    "tokenizer.word_index['no']"
   ]
  },
  {
   "cell_type": "markdown",
   "metadata": {},
   "source": [
    "## Creating the Model"
   ]
  },
  {
   "cell_type": "code",
   "execution_count": 230,
   "metadata": {},
   "outputs": [],
   "source": [
    "from tensorflow.keras.models import Sequential, Model\n",
    "from tensorflow.keras.layers import Embedding\n",
    "from tensorflow.keras.layers import Input, Activation, Dense, Permute, Dropout\n",
    "from tensorflow.keras.layers import add, dot, concatenate\n",
    "from tensorflow.keras.layers import LSTM\n",
    "from tensorflow.keras.optimizers import RMSprop"
   ]
  },
  {
   "cell_type": "markdown",
   "metadata": {},
   "source": [
    "### Placeholders for Inputs\n",
    "\n",
    "Recall we technically have two inputs, stories and questions. So we need to use placeholders. `Input()` is used to instantiate a Keras tensor.\n"
   ]
  },
  {
   "cell_type": "code",
   "execution_count": 231,
   "metadata": {},
   "outputs": [],
   "source": [
    "input_sequence = Input((max_story_len,))\n",
    "question = Input((max_question_len,))"
   ]
  },
  {
   "cell_type": "markdown",
   "metadata": {},
   "source": [
    "### Building the Networks"
   ]
  },
  {
   "cell_type": "markdown",
   "metadata": {},
   "source": [
    "## Encoders\n",
    "\n",
    "### Input Encoder m"
   ]
  },
  {
   "cell_type": "code",
   "execution_count": 232,
   "metadata": {},
   "outputs": [],
   "source": [
    "embedding_dim = 128\n",
    "\n",
    "# Input gets embedded to a sequence of vectors\n",
    "input_encoder_m = Sequential()\n",
    "input_encoder_m.add(Embedding(input_dim=vocab_size,output_dim= embedding_dim))\n",
    "input_encoder_m.add(Dropout(0.3))\n",
    "\n",
    "# This encoder will output:\n",
    "# (samples, story_maxlen, embedding_dim)"
   ]
  },
  {
   "cell_type": "markdown",
   "metadata": {},
   "source": [
    "### Input Encoder c"
   ]
  },
  {
   "cell_type": "code",
   "execution_count": 233,
   "metadata": {},
   "outputs": [],
   "source": [
    "# embed the input into a sequence of vectors of size query_maxlen\n",
    "input_encoder_c = Sequential()\n",
    "input_encoder_c.add(Embedding(input_dim=vocab_size,output_dim=max_question_len))\n",
    "input_encoder_c.add(Dropout(0.3))\n",
    "# output: (samples, story_maxlen, query_maxlen)"
   ]
  },
  {
   "cell_type": "markdown",
   "metadata": {},
   "source": [
    "### Question Encoder"
   ]
  },
  {
   "cell_type": "code",
   "execution_count": 234,
   "metadata": {},
   "outputs": [],
   "source": [
    "# embed the question into a sequence of vectors\n",
    "question_encoder = Sequential()\n",
    "question_encoder.add(Embedding(input_dim=vocab_size,\n",
    "                               output_dim=embedding_dim,\n",
    "                               input_length=max_question_len))\n",
    "question_encoder.add(Dropout(0.3))\n",
    "# output: (samples, query_maxlen, embedding_dim)"
   ]
  },
  {
   "cell_type": "markdown",
   "metadata": {},
   "source": [
    "### Encode the Sequences"
   ]
  },
  {
   "cell_type": "code",
   "execution_count": 235,
   "metadata": {},
   "outputs": [],
   "source": [
    "# encode input sequence and questions (which are indices) to sequences of dense vectors\n",
    "input_encoded_m = input_encoder_m(input_sequence)\n",
    "input_encoded_c = input_encoder_c(input_sequence)\n",
    "question_encoded = question_encoder(question)"
   ]
  },
  {
   "cell_type": "markdown",
   "metadata": {},
   "source": [
    "##### Use dot product to compute the match between first input vector seq and the query"
   ]
  },
  {
   "cell_type": "code",
   "execution_count": 236,
   "metadata": {},
   "outputs": [],
   "source": [
    "# shape: `(samples, story_maxlen, query_maxlen)`\n",
    "match = dot([input_encoded_m, question_encoded], axes=(2, 2))\n",
    "match = Activation('softmax')(match)"
   ]
  },
  {
   "cell_type": "markdown",
   "metadata": {},
   "source": [
    "#### Add this match matrix with the second input vector sequence"
   ]
  },
  {
   "cell_type": "code",
   "execution_count": 237,
   "metadata": {},
   "outputs": [],
   "source": [
    "# add the match matrix with the second input vector sequence\n",
    "response = add([match, input_encoded_c])  # (samples, story_maxlen, query_maxlen)\n",
    "response = Permute((2, 1))(response)  # (samples, query_maxlen, story_maxlen)"
   ]
  },
  {
   "cell_type": "markdown",
   "metadata": {},
   "source": [
    "#### Concatenate"
   ]
  },
  {
   "cell_type": "code",
   "execution_count": 238,
   "metadata": {},
   "outputs": [],
   "source": [
    "# concatenate the match matrix with the question vector sequence\n",
    "# (samples, query_maxlen, story_maxlen + embedding_dim)\n",
    "answer = concatenate([response, question_encoded])"
   ]
  },
  {
   "cell_type": "code",
   "execution_count": 239,
   "metadata": {},
   "outputs": [
    {
     "data": {
      "text/plain": [
       "<KerasTensor: shape=(None, 6, 284) dtype=float32 (created by layer 'concatenate_5')>"
      ]
     },
     "execution_count": 239,
     "metadata": {},
     "output_type": "execute_result"
    }
   ],
   "source": [
    "answer"
   ]
  },
  {
   "cell_type": "code",
   "execution_count": 240,
   "metadata": {},
   "outputs": [],
   "source": [
    "# Reduce with RNN (LSTM)\n",
    "answer = LSTM(32)(answer)  # shape (samples, 32)"
   ]
  },
  {
   "cell_type": "code",
   "execution_count": 241,
   "metadata": {},
   "outputs": [],
   "source": [
    "# Regularization with Dropout\n",
    "answer = Dropout(0.5)(answer)\n",
    "answer = Dense(vocab_size)(answer)  # (samples, vocab_size)"
   ]
  },
  {
   "cell_type": "code",
   "execution_count": 242,
   "metadata": {},
   "outputs": [],
   "source": [
    "# we output a probability distribution over the vocabulary\n",
    "answer = Activation('softmax')(answer)\n",
    "\n",
    "# build the final model\n",
    "model = Model([input_sequence, question], answer)\n",
    "optimizer = RMSprop(learning_rate=0.01)\n",
    "model.compile(optimizer=optimizer, loss='categorical_crossentropy', metrics=['accuracy'])"
   ]
  },
  {
   "cell_type": "code",
   "execution_count": 243,
   "metadata": {},
   "outputs": [
    {
     "name": "stdout",
     "output_type": "stream",
     "text": [
      "Model: \"model_11\"\n",
      "__________________________________________________________________________________________________\n",
      "Layer (type)                    Output Shape         Param #     Connected to                     \n",
      "==================================================================================================\n",
      "input_11 (InputLayer)           [(None, 156)]        0                                            \n",
      "__________________________________________________________________________________________________\n",
      "input_12 (InputLayer)           [(None, 6)]          0                                            \n",
      "__________________________________________________________________________________________________\n",
      "sequential_16 (Sequential)      (None, None, 128)    4864        input_11[0][0]                   \n",
      "__________________________________________________________________________________________________\n",
      "sequential_18 (Sequential)      (None, 6, 128)       4864        input_12[0][0]                   \n",
      "__________________________________________________________________________________________________\n",
      "dot_5 (Dot)                     (None, 156, 6)       0           sequential_16[0][0]              \n",
      "                                                                 sequential_18[0][0]              \n",
      "__________________________________________________________________________________________________\n",
      "activation_16 (Activation)      (None, 156, 6)       0           dot_5[0][0]                      \n",
      "__________________________________________________________________________________________________\n",
      "sequential_17 (Sequential)      (None, None, 6)      228         input_11[0][0]                   \n",
      "__________________________________________________________________________________________________\n",
      "add_5 (Add)                     (None, 156, 6)       0           activation_16[0][0]              \n",
      "                                                                 sequential_17[0][0]              \n",
      "__________________________________________________________________________________________________\n",
      "permute_5 (Permute)             (None, 6, 156)       0           add_5[0][0]                      \n",
      "__________________________________________________________________________________________________\n",
      "concatenate_5 (Concatenate)     (None, 6, 284)       0           permute_5[0][0]                  \n",
      "                                                                 sequential_18[0][0]              \n",
      "__________________________________________________________________________________________________\n",
      "lstm_5 (LSTM)                   (None, 32)           40576       concatenate_5[0][0]              \n",
      "__________________________________________________________________________________________________\n",
      "dropout_23 (Dropout)            (None, 32)           0           lstm_5[0][0]                     \n",
      "__________________________________________________________________________________________________\n",
      "dense_5 (Dense)                 (None, 38)           1254        dropout_23[0][0]                 \n",
      "__________________________________________________________________________________________________\n",
      "activation_17 (Activation)      (None, 38)           0           dense_5[0][0]                    \n",
      "==================================================================================================\n",
      "Total params: 51,786\n",
      "Trainable params: 51,786\n",
      "Non-trainable params: 0\n",
      "__________________________________________________________________________________________________\n"
     ]
    }
   ],
   "source": [
    "model.summary()"
   ]
  },
  {
   "cell_type": "code",
   "execution_count": 244,
   "metadata": {},
   "outputs": [],
   "source": [
    "import math\n",
    "from tensorflow.keras.callbacks import ReduceLROnPlateau, EarlyStopping, ModelCheckpoint, LearningRateScheduler\n",
    "\n",
    "initial_learning_rate = 0.01\n",
    "epochs = 120\n",
    "decay = initial_learning_rate / epochs\n",
    "\n",
    "def lr_step_decay(epoch, lr):\n",
    "    drop_rate = 0.5\n",
    "    epochs_drop = 20\n",
    "    return initial_learning_rate * math.pow(drop_rate, math.floor(epoch/epochs_drop))\n",
    "\n",
    "learning_rate = LearningRateScheduler(lr_step_decay, verbose=1)\n",
    "\n",
    "reduce_lr = ReduceLROnPlateau(monitor='val_loss', factor=0.66, patience=5, min_lr=0.0001, verbose=1)  # factor by which the learning rate will be reduced. new_lr = lr * factor"
   ]
  },
  {
   "cell_type": "code",
   "execution_count": 245,
   "metadata": {},
   "outputs": [
    {
     "name": "stdout",
     "output_type": "stream",
     "text": [
      "Epoch 1/120\n",
      "40/40 [==============================] - 5s 79ms/step - loss: 1.2886 - accuracy: 0.4478 - val_loss: 0.6969 - val_accuracy: 0.5030\n",
      "Epoch 2/120\n",
      "40/40 [==============================] - 2s 60ms/step - loss: 0.7145 - accuracy: 0.4878 - val_loss: 0.8687 - val_accuracy: 0.4970\n",
      "Epoch 3/120\n",
      "40/40 [==============================] - 2s 60ms/step - loss: 0.7206 - accuracy: 0.4935 - val_loss: 0.6938 - val_accuracy: 0.5030\n",
      "Epoch 4/120\n",
      "40/40 [==============================] - 2s 61ms/step - loss: 0.7014 - accuracy: 0.5080 - val_loss: 0.7082 - val_accuracy: 0.4970\n",
      "Epoch 5/120\n",
      "40/40 [==============================] - 2s 61ms/step - loss: 0.6972 - accuracy: 0.5120 - val_loss: 0.7052 - val_accuracy: 0.5030\n",
      "Epoch 6/120\n",
      "40/40 [==============================] - 2s 61ms/step - loss: 0.6947 - accuracy: 0.5189 - val_loss: 0.6011 - val_accuracy: 0.6650\n",
      "Epoch 7/120\n",
      "40/40 [==============================] - 3s 63ms/step - loss: 0.5402 - accuracy: 0.7323 - val_loss: 0.4762 - val_accuracy: 0.7680\n",
      "Epoch 8/120\n",
      "40/40 [==============================] - 2s 62ms/step - loss: 0.4380 - accuracy: 0.8155 - val_loss: 0.4169 - val_accuracy: 0.8070\n",
      "Epoch 9/120\n",
      "40/40 [==============================] - 2s 61ms/step - loss: 0.3895 - accuracy: 0.8372 - val_loss: 0.4177 - val_accuracy: 0.8340\n",
      "Epoch 10/120\n",
      "40/40 [==============================] - 2s 62ms/step - loss: 0.3531 - accuracy: 0.8486 - val_loss: 0.6276 - val_accuracy: 0.7250\n",
      "Epoch 11/120\n",
      "40/40 [==============================] - 2s 61ms/step - loss: 0.3580 - accuracy: 0.8414 - val_loss: 0.4226 - val_accuracy: 0.8000\n",
      "Epoch 12/120\n",
      "40/40 [==============================] - 2s 61ms/step - loss: 0.3441 - accuracy: 0.8504 - val_loss: 0.3879 - val_accuracy: 0.8290\n",
      "Epoch 13/120\n",
      "40/40 [==============================] - 3s 64ms/step - loss: 0.3284 - accuracy: 0.8541 - val_loss: 0.3610 - val_accuracy: 0.8330\n",
      "Epoch 14/120\n",
      "40/40 [==============================] - 2s 62ms/step - loss: 0.3006 - accuracy: 0.8661 - val_loss: 0.3927 - val_accuracy: 0.8270\n",
      "Epoch 15/120\n",
      "40/40 [==============================] - 2s 61ms/step - loss: 0.2961 - accuracy: 0.8680 - val_loss: 0.3516 - val_accuracy: 0.8280\n",
      "Epoch 16/120\n",
      "40/40 [==============================] - 2s 62ms/step - loss: 0.3009 - accuracy: 0.8647 - val_loss: 0.3754 - val_accuracy: 0.8300\n",
      "Epoch 17/120\n",
      "40/40 [==============================] - 3s 64ms/step - loss: 0.3036 - accuracy: 0.8648 - val_loss: 0.3478 - val_accuracy: 0.8340\n",
      "Epoch 18/120\n",
      "40/40 [==============================] - 2s 61ms/step - loss: 0.2855 - accuracy: 0.8715 - val_loss: 0.3810 - val_accuracy: 0.8310\n",
      "Epoch 19/120\n",
      "40/40 [==============================] - 2s 62ms/step - loss: 0.2990 - accuracy: 0.8587 - val_loss: 0.3433 - val_accuracy: 0.8350\n",
      "Epoch 20/120\n",
      "40/40 [==============================] - 3s 63ms/step - loss: 0.2866 - accuracy: 0.8689 - val_loss: 0.3407 - val_accuracy: 0.8410\n",
      "Epoch 21/120\n",
      "40/40 [==============================] - ETA: 0s - loss: 0.2827 - accuracy: 0.87 - 3s 63ms/step - loss: 0.2828 - accuracy: 0.8736 - val_loss: 0.3303 - val_accuracy: 0.8430\n",
      "Epoch 22/120\n",
      "40/40 [==============================] - 2s 62ms/step - loss: 0.2673 - accuracy: 0.8823 - val_loss: 0.3244 - val_accuracy: 0.8490\n",
      "Epoch 23/120\n",
      "40/40 [==============================] - 2s 62ms/step - loss: 0.2620 - accuracy: 0.8834 - val_loss: 0.4104 - val_accuracy: 0.8300\n",
      "Epoch 24/120\n",
      "40/40 [==============================] - 2s 62ms/step - loss: 0.2548 - accuracy: 0.8867 - val_loss: 0.2909 - val_accuracy: 0.8830\n",
      "Epoch 25/120\n",
      "40/40 [==============================] - 3s 64ms/step - loss: 0.2197 - accuracy: 0.9033 - val_loss: 0.2397 - val_accuracy: 0.8930\n",
      "Epoch 26/120\n",
      "40/40 [==============================] - 3s 64ms/step - loss: 0.1908 - accuracy: 0.9142 - val_loss: 0.2543 - val_accuracy: 0.8910\n",
      "Epoch 27/120\n",
      "40/40 [==============================] - 2s 62ms/step - loss: 0.1819 - accuracy: 0.9191 - val_loss: 0.2368 - val_accuracy: 0.8820\n",
      "Epoch 28/120\n",
      "40/40 [==============================] - 2s 61ms/step - loss: 0.1660 - accuracy: 0.9309 - val_loss: 0.3271 - val_accuracy: 0.8690\n",
      "Epoch 29/120\n",
      "40/40 [==============================] - 2s 62ms/step - loss: 0.1972 - accuracy: 0.9229 - val_loss: 0.2113 - val_accuracy: 0.9070\n",
      "Epoch 30/120\n",
      "40/40 [==============================] - 2s 62ms/step - loss: 0.1561 - accuracy: 0.9338 - val_loss: 0.2990 - val_accuracy: 0.8670\n",
      "Epoch 31/120\n",
      "40/40 [==============================] - 2s 61ms/step - loss: 0.1653 - accuracy: 0.9297 - val_loss: 0.2342 - val_accuracy: 0.8920\n",
      "Epoch 32/120\n",
      "40/40 [==============================] - 2s 62ms/step - loss: 0.1420 - accuracy: 0.9432 - val_loss: 0.1938 - val_accuracy: 0.9200\n",
      "Epoch 33/120\n",
      "40/40 [==============================] - 3s 64ms/step - loss: 0.1312 - accuracy: 0.9488 - val_loss: 0.1890 - val_accuracy: 0.9160\n",
      "Epoch 34/120\n",
      "40/40 [==============================] - 2s 62ms/step - loss: 0.1248 - accuracy: 0.9498 - val_loss: 0.1711 - val_accuracy: 0.9340\n",
      "Epoch 35/120\n",
      "40/40 [==============================] - 2s 59ms/step - loss: 0.1230 - accuracy: 0.9526 - val_loss: 0.2234 - val_accuracy: 0.9100\n",
      "Epoch 36/120\n",
      "40/40 [==============================] - 2s 58ms/step - loss: 0.1181 - accuracy: 0.9484 - val_loss: 0.1718 - val_accuracy: 0.9380\n",
      "Epoch 37/120\n",
      "40/40 [==============================] - 2s 59ms/step - loss: 0.1070 - accuracy: 0.9573 - val_loss: 0.1465 - val_accuracy: 0.9420\n",
      "Epoch 38/120\n",
      "40/40 [==============================] - 2s 58ms/step - loss: 0.0928 - accuracy: 0.9628 - val_loss: 0.1846 - val_accuracy: 0.9390\n",
      "Epoch 39/120\n",
      "40/40 [==============================] - 2s 60ms/step - loss: 0.0932 - accuracy: 0.9608 - val_loss: 0.2260 - val_accuracy: 0.9130\n",
      "Epoch 40/120\n",
      "40/40 [==============================] - 2s 59ms/step - loss: 0.0995 - accuracy: 0.9618 - val_loss: 0.2089 - val_accuracy: 0.9460\n",
      "Epoch 41/120\n",
      "40/40 [==============================] - 2s 59ms/step - loss: 0.0922 - accuracy: 0.9642 - val_loss: 0.1145 - val_accuracy: 0.9580\n",
      "Epoch 42/120\n",
      "40/40 [==============================] - 2s 60ms/step - loss: 0.0719 - accuracy: 0.9733 - val_loss: 0.1594 - val_accuracy: 0.9500\n",
      "Epoch 43/120\n",
      "40/40 [==============================] - 2s 59ms/step - loss: 0.0739 - accuracy: 0.9707 - val_loss: 0.1383 - val_accuracy: 0.9500\n",
      "Epoch 44/120\n",
      "40/40 [==============================] - 2s 60ms/step - loss: 0.0698 - accuracy: 0.9750 - val_loss: 0.1149 - val_accuracy: 0.9610\n",
      "Epoch 45/120\n",
      "40/40 [==============================] - 2s 58ms/step - loss: 0.0658 - accuracy: 0.9748 - val_loss: 0.1331 - val_accuracy: 0.9520\n",
      "Epoch 46/120\n",
      "40/40 [==============================] - 2s 61ms/step - loss: 0.0667 - accuracy: 0.9773 - val_loss: 0.1386 - val_accuracy: 0.9580\n",
      "Epoch 47/120\n",
      "40/40 [==============================] - 2s 58ms/step - loss: 0.0628 - accuracy: 0.9768 - val_loss: 0.1706 - val_accuracy: 0.9500\n",
      "Epoch 48/120\n",
      "40/40 [==============================] - 2s 58ms/step - loss: 0.0632 - accuracy: 0.9758 - val_loss: 0.1424 - val_accuracy: 0.9520\n",
      "Epoch 49/120\n",
      "40/40 [==============================] - 2s 58ms/step - loss: 0.0630 - accuracy: 0.9761 - val_loss: 0.1340 - val_accuracy: 0.9500\n",
      "Epoch 50/120\n",
      "40/40 [==============================] - 2s 59ms/step - loss: 0.0726 - accuracy: 0.9741 - val_loss: 0.1421 - val_accuracy: 0.9580\n",
      "Epoch 51/120\n",
      "40/40 [==============================] - 2s 58ms/step - loss: 0.0529 - accuracy: 0.9812 - val_loss: 0.1416 - val_accuracy: 0.9520\n",
      "Epoch 52/120\n",
      "40/40 [==============================] - 2s 58ms/step - loss: 0.0567 - accuracy: 0.9800 - val_loss: 0.1521 - val_accuracy: 0.9540\n",
      "Epoch 53/120\n",
      "40/40 [==============================] - 2s 60ms/step - loss: 0.0489 - accuracy: 0.9815 - val_loss: 0.1611 - val_accuracy: 0.9530\n",
      "Epoch 54/120\n",
      "40/40 [==============================] - 2s 59ms/step - loss: 0.0532 - accuracy: 0.9792 - val_loss: 0.1776 - val_accuracy: 0.9500\n",
      "Epoch 55/120\n",
      "40/40 [==============================] - 2s 58ms/step - loss: 0.0620 - accuracy: 0.9765 - val_loss: 0.1093 - val_accuracy: 0.9620\n",
      "Epoch 56/120\n",
      "40/40 [==============================] - 2s 58ms/step - loss: 0.0477 - accuracy: 0.9819 - val_loss: 0.1564 - val_accuracy: 0.9550\n",
      "Epoch 57/120\n",
      "40/40 [==============================] - 2s 60ms/step - loss: 0.0598 - accuracy: 0.9794 - val_loss: 0.1580 - val_accuracy: 0.9540\n",
      "Epoch 58/120\n",
      "40/40 [==============================] - 2s 60ms/step - loss: 0.0499 - accuracy: 0.9805 - val_loss: 0.1864 - val_accuracy: 0.9560\n",
      "Epoch 59/120\n",
      "40/40 [==============================] - 2s 62ms/step - loss: 0.0559 - accuracy: 0.9812 - val_loss: 0.1372 - val_accuracy: 0.9600\n",
      "Epoch 60/120\n",
      "40/40 [==============================] - 2s 62ms/step - loss: 0.0399 - accuracy: 0.9855 - val_loss: 0.1365 - val_accuracy: 0.9620\n",
      "Epoch 61/120\n",
      "40/40 [==============================] - 3s 63ms/step - loss: 0.0439 - accuracy: 0.9828 - val_loss: 0.1405 - val_accuracy: 0.9470\n",
      "Epoch 62/120\n",
      "40/40 [==============================] - 2s 62ms/step - loss: 0.0481 - accuracy: 0.9825 - val_loss: 0.2116 - val_accuracy: 0.9560\n",
      "Epoch 63/120\n",
      "40/40 [==============================] - 3s 65ms/step - loss: 0.0474 - accuracy: 0.9820 - val_loss: 0.1341 - val_accuracy: 0.9670\n",
      "Epoch 64/120\n",
      "40/40 [==============================] - 3s 64ms/step - loss: 0.0452 - accuracy: 0.9833 - val_loss: 0.1607 - val_accuracy: 0.9570\n",
      "Epoch 65/120\n",
      "40/40 [==============================] - 3s 64ms/step - loss: 0.0464 - accuracy: 0.9835 - val_loss: 0.1398 - val_accuracy: 0.9640\n",
      "Epoch 66/120\n",
      "40/40 [==============================] - 3s 66ms/step - loss: 0.0326 - accuracy: 0.9888 - val_loss: 0.1667 - val_accuracy: 0.9580\n",
      "Epoch 67/120\n",
      "40/40 [==============================] - 3s 63ms/step - loss: 0.0421 - accuracy: 0.9860 - val_loss: 0.1278 - val_accuracy: 0.9680\n",
      "Epoch 68/120\n",
      "40/40 [==============================] - 2s 62ms/step - loss: 0.0449 - accuracy: 0.9871 - val_loss: 0.1153 - val_accuracy: 0.9680\n",
      "Epoch 69/120\n",
      "40/40 [==============================] - 2s 62ms/step - loss: 0.0325 - accuracy: 0.9893 - val_loss: 0.1168 - val_accuracy: 0.9630\n",
      "Epoch 70/120\n",
      "40/40 [==============================] - 2s 62ms/step - loss: 0.0326 - accuracy: 0.9880 - val_loss: 0.1226 - val_accuracy: 0.9700\n",
      "Epoch 71/120\n",
      "40/40 [==============================] - 2s 63ms/step - loss: 0.0371 - accuracy: 0.9884 - val_loss: 0.1175 - val_accuracy: 0.9690\n",
      "Epoch 72/120\n",
      "40/40 [==============================] - 3s 63ms/step - loss: 0.0258 - accuracy: 0.9900 - val_loss: 0.1148 - val_accuracy: 0.9720\n",
      "Epoch 73/120\n",
      "40/40 [==============================] - 2s 62ms/step - loss: 0.0329 - accuracy: 0.9884 - val_loss: 0.2657 - val_accuracy: 0.9360\n",
      "Epoch 74/120\n",
      "40/40 [==============================] - 2s 62ms/step - loss: 0.0529 - accuracy: 0.9838 - val_loss: 0.1211 - val_accuracy: 0.9690\n",
      "Epoch 75/120\n",
      "40/40 [==============================] - 3s 63ms/step - loss: 0.0238 - accuracy: 0.9908 - val_loss: 0.1123 - val_accuracy: 0.9710\n",
      "Epoch 76/120\n",
      "40/40 [==============================] - 2s 62ms/step - loss: 0.0287 - accuracy: 0.9892 - val_loss: 0.1959 - val_accuracy: 0.9580\n",
      "Epoch 77/120\n",
      "40/40 [==============================] - 2s 62ms/step - loss: 0.0320 - accuracy: 0.9892 - val_loss: 0.1412 - val_accuracy: 0.9710\n",
      "Epoch 78/120\n",
      "40/40 [==============================] - 2s 62ms/step - loss: 0.0234 - accuracy: 0.9918 - val_loss: 0.1604 - val_accuracy: 0.9680\n",
      "Epoch 79/120\n",
      "40/40 [==============================] - 3s 66ms/step - loss: 0.0253 - accuracy: 0.9920 - val_loss: 0.1238 - val_accuracy: 0.9680\n",
      "Epoch 80/120\n",
      "40/40 [==============================] - 2s 62ms/step - loss: 0.0232 - accuracy: 0.9924 - val_loss: 0.1323 - val_accuracy: 0.9660\n",
      "Epoch 81/120\n",
      "40/40 [==============================] - 2s 62ms/step - loss: 0.0261 - accuracy: 0.9912 - val_loss: 0.1343 - val_accuracy: 0.9660\n",
      "Epoch 82/120\n",
      "40/40 [==============================] - 3s 63ms/step - loss: 0.0298 - accuracy: 0.9910 - val_loss: 0.1255 - val_accuracy: 0.9730\n",
      "Epoch 83/120\n",
      "40/40 [==============================] - 3s 64ms/step - loss: 0.0223 - accuracy: 0.9921 - val_loss: 0.1615 - val_accuracy: 0.9660\n",
      "Epoch 84/120\n",
      "40/40 [==============================] - 3s 63ms/step - loss: 0.0205 - accuracy: 0.9941 - val_loss: 0.1249 - val_accuracy: 0.9730\n",
      "Epoch 85/120\n",
      "40/40 [==============================] - 3s 64ms/step - loss: 0.0210 - accuracy: 0.9932 - val_loss: 0.1331 - val_accuracy: 0.9700\n",
      "Epoch 86/120\n",
      "40/40 [==============================] - 2s 62ms/step - loss: 0.0245 - accuracy: 0.9919 - val_loss: 0.1325 - val_accuracy: 0.9720\n",
      "Epoch 87/120\n",
      "40/40 [==============================] - 3s 63ms/step - loss: 0.0267 - accuracy: 0.9910 - val_loss: 0.1077 - val_accuracy: 0.9760\n",
      "Epoch 88/120\n",
      "40/40 [==============================] - 3s 63ms/step - loss: 0.0143 - accuracy: 0.9947 - val_loss: 0.1164 - val_accuracy: 0.9760\n",
      "Epoch 89/120\n",
      "40/40 [==============================] - 3s 63ms/step - loss: 0.0209 - accuracy: 0.9949 - val_loss: 0.1574 - val_accuracy: 0.9640\n",
      "Epoch 90/120\n",
      "40/40 [==============================] - 2s 62ms/step - loss: 0.0217 - accuracy: 0.9924 - val_loss: 0.1620 - val_accuracy: 0.9680\n",
      "Epoch 91/120\n",
      "40/40 [==============================] - 3s 65ms/step - loss: 0.0243 - accuracy: 0.9936 - val_loss: 0.1340 - val_accuracy: 0.9750\n",
      "Epoch 92/120\n",
      "40/40 [==============================] - 3s 63ms/step - loss: 0.0264 - accuracy: 0.9928 - val_loss: 0.1512 - val_accuracy: 0.9710\n",
      "Epoch 93/120\n",
      "40/40 [==============================] - 3s 63ms/step - loss: 0.0335 - accuracy: 0.9912 - val_loss: 0.1298 - val_accuracy: 0.9740\n",
      "Epoch 94/120\n",
      "40/40 [==============================] - 3s 63ms/step - loss: 0.0194 - accuracy: 0.9938 - val_loss: 0.1382 - val_accuracy: 0.9740\n",
      "Epoch 95/120\n",
      "40/40 [==============================] - 3s 63ms/step - loss: 0.0244 - accuracy: 0.9918 - val_loss: 0.1347 - val_accuracy: 0.9700\n",
      "Epoch 96/120\n",
      "40/40 [==============================] - 2s 62ms/step - loss: 0.0204 - accuracy: 0.9937 - val_loss: 0.0982 - val_accuracy: 0.9780\n",
      "Epoch 97/120\n",
      "40/40 [==============================] - 2s 62ms/step - loss: 0.0214 - accuracy: 0.9931 - val_loss: 0.1325 - val_accuracy: 0.9760\n",
      "Epoch 98/120\n",
      "40/40 [==============================] - 3s 64ms/step - loss: 0.0185 - accuracy: 0.9956 - val_loss: 0.1069 - val_accuracy: 0.9760\n",
      "Epoch 99/120\n",
      "40/40 [==============================] - 3s 63ms/step - loss: 0.0181 - accuracy: 0.9948 - val_loss: 0.1036 - val_accuracy: 0.9760\n",
      "Epoch 100/120\n",
      "40/40 [==============================] - 2s 61ms/step - loss: 0.0226 - accuracy: 0.9933 - val_loss: 0.1179 - val_accuracy: 0.9740\n",
      "Epoch 101/120\n",
      "40/40 [==============================] - 2s 62ms/step - loss: 0.0150 - accuracy: 0.9954 - val_loss: 0.1389 - val_accuracy: 0.9720\n",
      "Epoch 102/120\n",
      "40/40 [==============================] - 2s 62ms/step - loss: 0.0279 - accuracy: 0.9932 - val_loss: 0.1008 - val_accuracy: 0.9780\n",
      "Epoch 103/120\n",
      "40/40 [==============================] - 3s 63ms/step - loss: 0.0316 - accuracy: 0.9915 - val_loss: 0.1189 - val_accuracy: 0.9720\n",
      "Epoch 104/120\n",
      "40/40 [==============================] - 3s 64ms/step - loss: 0.0151 - accuracy: 0.9966 - val_loss: 0.1124 - val_accuracy: 0.9750\n",
      "Epoch 105/120\n",
      "40/40 [==============================] - 2s 62ms/step - loss: 0.0231 - accuracy: 0.9955 - val_loss: 0.1156 - val_accuracy: 0.9750\n",
      "Epoch 106/120\n",
      "40/40 [==============================] - 2s 62ms/step - loss: 0.0150 - accuracy: 0.9948 - val_loss: 0.1060 - val_accuracy: 0.9760\n",
      "Epoch 107/120\n",
      "40/40 [==============================] - 3s 63ms/step - loss: 0.0252 - accuracy: 0.9933 - val_loss: 0.1463 - val_accuracy: 0.9750\n",
      "Epoch 108/120\n",
      "40/40 [==============================] - 3s 68ms/step - loss: 0.0182 - accuracy: 0.9953 - val_loss: 0.1632 - val_accuracy: 0.9690\n",
      "Epoch 109/120\n",
      "40/40 [==============================] - 2s 62ms/step - loss: 0.0288 - accuracy: 0.9923 - val_loss: 0.1296 - val_accuracy: 0.9750\n",
      "Epoch 110/120\n",
      "40/40 [==============================] - 2s 63ms/step - loss: 0.0151 - accuracy: 0.9955 - val_loss: 0.0898 - val_accuracy: 0.9790\n",
      "Epoch 111/120\n",
      "40/40 [==============================] - 3s 64ms/step - loss: 0.0184 - accuracy: 0.9932 - val_loss: 0.1123 - val_accuracy: 0.9740\n",
      "Epoch 112/120\n",
      "40/40 [==============================] - 2s 62ms/step - loss: 0.0156 - accuracy: 0.9965 - val_loss: 0.1168 - val_accuracy: 0.9760\n",
      "Epoch 113/120\n",
      "40/40 [==============================] - 2s 62ms/step - loss: 0.0167 - accuracy: 0.9955 - val_loss: 0.1190 - val_accuracy: 0.9740\n",
      "Epoch 114/120\n",
      "40/40 [==============================] - 2s 62ms/step - loss: 0.0173 - accuracy: 0.9951 - val_loss: 0.1243 - val_accuracy: 0.9780\n",
      "Epoch 115/120\n",
      "40/40 [==============================] - 3s 63ms/step - loss: 0.0167 - accuracy: 0.9943 - val_loss: 0.1419 - val_accuracy: 0.9750\n",
      "Epoch 116/120\n",
      "40/40 [==============================] - 2s 62ms/step - loss: 0.0156 - accuracy: 0.9963 - val_loss: 0.1335 - val_accuracy: 0.9750\n",
      "Epoch 117/120\n",
      "40/40 [==============================] - 3s 64ms/step - loss: 0.0125 - accuracy: 0.9960 - val_loss: 0.0904 - val_accuracy: 0.9830\n",
      "Epoch 118/120\n",
      "40/40 [==============================] - 2s 62ms/step - loss: 0.0240 - accuracy: 0.9940 - val_loss: 0.1392 - val_accuracy: 0.9760\n",
      "Epoch 119/120\n",
      "40/40 [==============================] - 3s 63ms/step - loss: 0.0309 - accuracy: 0.9939 - val_loss: 0.0961 - val_accuracy: 0.9790\n",
      "Epoch 120/120\n",
      "40/40 [==============================] - 3s 63ms/step - loss: 0.0129 - accuracy: 0.9960 - val_loss: 0.1045 - val_accuracy: 0.9710\n"
     ]
    }
   ],
   "source": [
    "# train\n",
    "history = model.fit([inputs_train, queries_train], answers_train,batch_size=256,epochs=120,validation_data=([inputs_test, queries_test], answers_test))  # , callbacks=[reduce_lr]"
   ]
  },
  {
   "cell_type": "markdown",
   "metadata": {},
   "source": [
    "### Saving the Model"
   ]
  },
  {
   "cell_type": "code",
   "execution_count": 246,
   "metadata": {},
   "outputs": [],
   "source": [
    "filename = 'chatbot_120_epochs_9710.h5'\n",
    "model.save(filename)"
   ]
  },
  {
   "cell_type": "markdown",
   "metadata": {},
   "source": [
    "## Evaluating the Model\n",
    "\n",
    "### Plotting Out Training History"
   ]
  },
  {
   "cell_type": "code",
   "execution_count": 277,
   "metadata": {},
   "outputs": [
    {
     "name": "stdout",
     "output_type": "stream",
     "text": [
      "dict_keys(['loss', 'accuracy', 'val_loss', 'val_accuracy'])\n"
     ]
    },
    {
     "data": {
      "image/png": "[encoded data removed]",
      "text/plain": [
       "<Figure size 432x288 with 1 Axes>"
      ]
     },
     "metadata": {
      "needs_background": "light"
     },
     "output_type": "display_data"
    }
   ],
   "source": [
    "import matplotlib.pyplot as plt\n",
    "%matplotlib inline\n",
    "print(history.history.keys())\n",
    "# summarize history for accuracy\n",
    "plt.plot(history.history['accuracy'])\n",
    "plt.plot(history.history['val_accuracy'])\n",
    "plt.title('model accuracy')\n",
    "plt.ylabel('accuracy')\n",
    "plt.xlabel('epoch')\n",
    "plt.legend(['train', 'test'], loc='upper left')\n",
    "plt.savefig('accuracy.png', dpi=180, facecolor='white')\n",
    "plt.show()"
   ]
  },
  {
   "cell_type": "markdown",
   "metadata": {},
   "source": [
    "### Evaluating on Given Test Set"
   ]
  },
  {
   "cell_type": "code",
   "execution_count": 248,
   "metadata": {},
   "outputs": [],
   "source": [
    "#model.load_weights(filename)\n",
    "pred_results = model.predict(([inputs_test, queries_test]))"
   ]
  },
  {
   "cell_type": "code",
   "execution_count": 249,
   "metadata": {},
   "outputs": [
    {
     "data": {
      "text/plain": [
       "['Mary',\n",
       " 'got',\n",
       " 'the',\n",
       " 'milk',\n",
       " 'there',\n",
       " '.',\n",
       " 'John',\n",
       " 'moved',\n",
       " 'to',\n",
       " 'the',\n",
       " 'bedroom',\n",
       " '.']"
      ]
     },
     "execution_count": 249,
     "metadata": {},
     "output_type": "execute_result"
    }
   ],
   "source": [
    "test_data[0][0]"
   ]
  },
  {
   "cell_type": "code",
   "execution_count": 250,
   "metadata": {},
   "outputs": [
    {
     "name": "stdout",
     "output_type": "stream",
     "text": [
      "Mary got the milk there . John moved to the bedroom .\n"
     ]
    }
   ],
   "source": [
    "story =' '.join(word for word in test_data[0][0])\n",
    "print(story)"
   ]
  },
  {
   "cell_type": "code",
   "execution_count": 251,
   "metadata": {},
   "outputs": [
    {
     "name": "stdout",
     "output_type": "stream",
     "text": [
      "Is John in the kitchen ?\n"
     ]
    }
   ],
   "source": [
    "query = ' '.join(word for word in test_data[0][1])\n",
    "print(query)"
   ]
  },
  {
   "cell_type": "code",
   "execution_count": 252,
   "metadata": {},
   "outputs": [
    {
     "name": "stdout",
     "output_type": "stream",
     "text": [
      "True Test Answer from Data is: no\n"
     ]
    }
   ],
   "source": [
    "print(\"True Test Answer from Data is:\",test_data[0][2])"
   ]
  },
  {
   "cell_type": "code",
   "execution_count": 253,
   "metadata": {},
   "outputs": [
    {
     "name": "stdout",
     "output_type": "stream",
     "text": [
      "Predicted answer is:  no\n",
      "Probability of certainty was:  0.9999987\n"
     ]
    }
   ],
   "source": [
    "#Generate prediction from model\n",
    "val_max = np.argmax(pred_results[0])\n",
    "\n",
    "for key, val in tokenizer.word_index.items():\n",
    "    if val == val_max:\n",
    "        k = key\n",
    "\n",
    "print(\"Predicted answer is: \", k)\n",
    "print(\"Probability of certainty was: \", pred_results[0][val_max])"
   ]
  },
  {
   "cell_type": "markdown",
   "metadata": {},
   "source": [
    "## Writing Your Own Stories and Questions\n",
    "\n",
    "Remember you can only use words from the existing vocab"
   ]
  },
  {
   "cell_type": "code",
   "execution_count": 254,
   "metadata": {},
   "outputs": [
    {
     "data": {
      "text/plain": [
       "{'.',\n",
       " '?',\n",
       " 'Daniel',\n",
       " 'Is',\n",
       " 'John',\n",
       " 'Mary',\n",
       " 'Sandra',\n",
       " 'apple',\n",
       " 'back',\n",
       " 'bathroom',\n",
       " 'bedroom',\n",
       " 'discarded',\n",
       " 'down',\n",
       " 'dropped',\n",
       " 'football',\n",
       " 'garden',\n",
       " 'got',\n",
       " 'grabbed',\n",
       " 'hallway',\n",
       " 'in',\n",
       " 'journeyed',\n",
       " 'kitchen',\n",
       " 'left',\n",
       " 'milk',\n",
       " 'moved',\n",
       " 'no',\n",
       " 'office',\n",
       " 'picked',\n",
       " 'put',\n",
       " 'the',\n",
       " 'there',\n",
       " 'to',\n",
       " 'took',\n",
       " 'travelled',\n",
       " 'up',\n",
       " 'went',\n",
       " 'yes'}"
      ]
     },
     "execution_count": 254,
     "metadata": {},
     "output_type": "execute_result"
    }
   ],
   "source": [
    "vocab"
   ]
  },
  {
   "cell_type": "code",
   "execution_count": 255,
   "metadata": {},
   "outputs": [
    {
     "data": {
      "text/plain": [
       "['John',\n",
       " 'left',\n",
       " 'the',\n",
       " 'kitchen',\n",
       " '.',\n",
       " 'Sandra',\n",
       " 'dropped',\n",
       " 'the',\n",
       " 'football',\n",
       " 'in',\n",
       " 'the',\n",
       " 'garden',\n",
       " '.']"
      ]
     },
     "execution_count": 255,
     "metadata": {},
     "output_type": "execute_result"
    }
   ],
   "source": [
    "# Note the whitespace of the periods\n",
    "my_story = \"John left the kitchen . Sandra dropped the football in the garden .\"\n",
    "my_story.split()"
   ]
  },
  {
   "cell_type": "code",
   "execution_count": 256,
   "metadata": {},
   "outputs": [],
   "source": [
    "my_question = \"Is the football in the garden ?\""
   ]
  },
  {
   "cell_type": "code",
   "execution_count": 257,
   "metadata": {},
   "outputs": [
    {
     "data": {
      "text/plain": [
       "['Is', 'the', 'football', 'in', 'the', 'garden', '?']"
      ]
     },
     "execution_count": 257,
     "metadata": {},
     "output_type": "execute_result"
    }
   ],
   "source": [
    "my_question.split()"
   ]
  },
  {
   "cell_type": "code",
   "execution_count": 258,
   "metadata": {},
   "outputs": [],
   "source": [
    "mydata = [(my_story.split(),my_question.split(),'yes')]"
   ]
  },
  {
   "cell_type": "code",
   "execution_count": 259,
   "metadata": {},
   "outputs": [],
   "source": [
    "my_story,my_ques,my_ans = vectorize_stories(mydata)"
   ]
  },
  {
   "cell_type": "code",
   "execution_count": 260,
   "metadata": {},
   "outputs": [],
   "source": [
    "pred_results = model.predict(([ my_story, my_ques]))"
   ]
  },
  {
   "cell_type": "code",
   "execution_count": 261,
   "metadata": {},
   "outputs": [
    {
     "name": "stdout",
     "output_type": "stream",
     "text": [
      "Predicted answer is:  yes\n",
      "Probability of certainty was:  0.9999999\n"
     ]
    }
   ],
   "source": [
    "#Generate prediction from model\n",
    "val_max = np.argmax(pred_results[0])\n",
    "\n",
    "for key, val in tokenizer.word_index.items():\n",
    "    if val == val_max:\n",
    "        k = key\n",
    "\n",
    "print(\"Predicted answer is: \", k)\n",
    "print(\"Probability of certainty was: \", pred_results[0][val_max])"
   ]
  },
  {
   "cell_type": "markdown",
   "metadata": {},
   "source": [
    "#### test"
   ]
  },
  {
   "cell_type": "code",
   "execution_count": 262,
   "metadata": {},
   "outputs": [],
   "source": [
    "my_story = \"Sandra grabbed Mary in the kitchen . Sandra picked the apple in the garden . John got back in the office . Mary got the milk . Daniel discarded the apple .\"\n",
    "my_question = \"Is apple in the garden ?\"\n",
    "mydata = [(my_story.split(),my_question.split(),'yes')]\n",
    "my_story,my_ques,my_ans = vectorize_stories(mydata)"
   ]
  },
  {
   "cell_type": "code",
   "execution_count": 263,
   "metadata": {},
   "outputs": [],
   "source": [
    "pred_results = model.predict(([ my_story, my_ques]))"
   ]
  },
  {
   "cell_type": "code",
   "execution_count": 264,
   "metadata": {},
   "outputs": [
    {
     "name": "stdout",
     "output_type": "stream",
     "text": [
      "Predicted answer is:  yes\n",
      "Probability of certainty was:  0.999642\n"
     ]
    }
   ],
   "source": [
    "#Generate prediction from model\n",
    "val_max = np.argmax(pred_results[0])\n",
    "\n",
    "for key, val in tokenizer.word_index.items():\n",
    "    if val == val_max:\n",
    "        k = key\n",
    "\n",
    "print(\"Predicted answer is: \", k)\n",
    "print(\"Probability of certainty was: \", pred_results[0][val_max])"
   ]
  },
  {
   "cell_type": "code",
   "execution_count": 268,
   "metadata": {},
   "outputs": [],
   "source": [
    "my_story = 'Daniel grabbed the apple there . Daniel went to the bedroom . John moved to the garden . Sandra journeyed to the office . Daniel put down the apple . Mary went to the bedroom . Mary grabbed the apple there . Sandra went back to the garden . Mary went to the kitchen . Daniel went to the office .'\n",
    "my_question = \"Is Mary in the kitchen ?\"\n",
    "mydata = [(my_story.split(),my_question.split(),'yes')]\n",
    "my_story,my_ques,my_ans = vectorize_stories(mydata)"
   ]
  },
  {
   "cell_type": "code",
   "execution_count": 269,
   "metadata": {},
   "outputs": [],
   "source": [
    "pred_results = model.predict(([ my_story, my_ques]))"
   ]
  },
  {
   "cell_type": "code",
   "execution_count": 270,
   "metadata": {},
   "outputs": [
    {
     "name": "stdout",
     "output_type": "stream",
     "text": [
      "Predicted answer is:  yes\n",
      "Probability of certainty was:  0.99999845\n"
     ]
    }
   ],
   "source": [
    "#Generate prediction from model\n",
    "val_max = np.argmax(pred_results[0])\n",
    "\n",
    "for key, val in tokenizer.word_index.items():\n",
    "    if val == val_max:\n",
    "        k = key\n",
    "\n",
    "print(\"Predicted answer is: \", k)\n",
    "print(\"Probability of certainty was: \", pred_results[0][val_max])"
   ]
  },
  {
   "cell_type": "code",
   "execution_count": 272,
   "metadata": {},
   "outputs": [],
   "source": [
    "my_story = 'Daniel grabbed the apple there . Daniel went to the bedroom . John moved to the garden . Sandra journeyed to the office . Daniel put down the apple . Mary went to the bedroom . Mary grabbed the apple there . Sandra went back to the garden . Mary went to the kitchen . Daniel went to the office .'\n",
    "my_question = \"Is Mary in the bedroom ?\"\n",
    "mydata = [(my_story.split(),my_question.split(),'no')]\n",
    "my_story,my_ques,my_ans = vectorize_stories(mydata)"
   ]
  },
  {
   "cell_type": "code",
   "execution_count": 273,
   "metadata": {},
   "outputs": [],
   "source": [
    "pred_results = model.predict(([ my_story, my_ques]))"
   ]
  },
  {
   "cell_type": "code",
   "execution_count": 274,
   "metadata": {},
   "outputs": [
    {
     "name": "stdout",
     "output_type": "stream",
     "text": [
      "Predicted answer is:  no\n",
      "Probability of certainty was:  0.99998736\n"
     ]
    }
   ],
   "source": [
    "#Generate prediction from model\n",
    "val_max = np.argmax(pred_results[0])\n",
    "\n",
    "for key, val in tokenizer.word_index.items():\n",
    "    if val == val_max:\n",
    "        k = key\n",
    "\n",
    "print(\"Predicted answer is: \", k)\n",
    "print(\"Probability of certainty was: \", pred_results[0][val_max])"
   ]
  },
  {
   "cell_type": "code",
   "execution_count": null,
   "metadata": {},
   "outputs": [],
   "source": []
  }
 ],
 "metadata": {
  "kernelspec": {
   "display_name": "nlp",
   "language": "python",
   "name": "nlp"
  },
  "language_info": {
   "codemirror_mode": {
    "name": "ipython",
    "version": 3
   },
   "file_extension": ".py",
   "mimetype": "text/x-python",
   "name": "python",
   "nbconvert_exporter": "python",
   "pygments_lexer": "ipython3",
   "version": "3.7.0"
  }
 },
 "nbformat": 4,
 "nbformat_minor": 4
}
